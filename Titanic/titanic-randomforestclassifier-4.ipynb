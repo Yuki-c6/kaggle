{
 "cells": [
  {
   "cell_type": "code",
   "execution_count": 1,
   "id": "149e230d",
   "metadata": {
    "_cell_guid": "b1076dfc-b9ad-4769-8c92-a6c4dae69d19",
    "_uuid": "8f2839f25d086af736a60e9eeb907d3b93b6e0e5",
    "execution": {
     "iopub.execute_input": "2024-07-18T17:26:33.513810Z",
     "iopub.status.busy": "2024-07-18T17:26:33.513370Z",
     "iopub.status.idle": "2024-07-18T17:26:34.408483Z",
     "shell.execute_reply": "2024-07-18T17:26:34.407373Z"
    },
    "papermill": {
     "duration": 0.905266,
     "end_time": "2024-07-18T17:26:34.411271",
     "exception": false,
     "start_time": "2024-07-18T17:26:33.506005",
     "status": "completed"
    },
    "tags": []
   },
   "outputs": [
    {
     "name": "stdout",
     "output_type": "stream",
     "text": [
      "/kaggle/input/titanic/train.csv\n",
      "/kaggle/input/titanic/test.csv\n",
      "/kaggle/input/titanic/gender_submission.csv\n"
     ]
    }
   ],
   "source": [
    "# This Python 3 environment comes with many helpful analytics libraries installed\n",
    "# It is defined by the kaggle/python Docker image: https://github.com/kaggle/docker-python\n",
    "# For example, here's several helpful packages to load\n",
    "\n",
    "import numpy as np # linear algebra\n",
    "import pandas as pd # data processing, CSV file I/O (e.g. pd.read_csv)\n",
    "\n",
    "# Input data files are available in the read-only \"../input/\" directory\n",
    "# For example, running this (by clicking run or pressing Shift+Enter) will list all files under the input directory\n",
    "\n",
    "import os\n",
    "for dirname, _, filenames in os.walk('/kaggle/input'):\n",
    "    for filename in filenames:\n",
    "        print(os.path.join(dirname, filename))\n",
    "\n",
    "# You can write up to 20GB to the current directory (/kaggle/working/) that gets preserved as output when you create a version using \"Save & Run All\" \n",
    "# You can also write temporary files to /kaggle/temp/, but they won't be saved outside of the current session"
   ]
  },
  {
   "cell_type": "code",
   "execution_count": 2,
   "id": "40a81486",
   "metadata": {
    "execution": {
     "iopub.execute_input": "2024-07-18T17:26:34.424499Z",
     "iopub.status.busy": "2024-07-18T17:26:34.423994Z",
     "iopub.status.idle": "2024-07-18T17:26:34.452662Z",
     "shell.execute_reply": "2024-07-18T17:26:34.451671Z"
    },
    "papermill": {
     "duration": 0.038339,
     "end_time": "2024-07-18T17:26:34.455217",
     "exception": false,
     "start_time": "2024-07-18T17:26:34.416878",
     "status": "completed"
    },
    "tags": []
   },
   "outputs": [],
   "source": [
    "# データの読み込み\n",
    "train = pd.read_csv('/kaggle/input/titanic/train.csv')\n",
    "test = pd.read_csv('/kaggle/input/titanic/test.csv')"
   ]
  },
  {
   "cell_type": "code",
   "execution_count": 3,
   "id": "9106bc08",
   "metadata": {
    "execution": {
     "iopub.execute_input": "2024-07-18T17:26:34.467787Z",
     "iopub.status.busy": "2024-07-18T17:26:34.467370Z",
     "iopub.status.idle": "2024-07-18T17:26:35.868072Z",
     "shell.execute_reply": "2024-07-18T17:26:35.866796Z"
    },
    "papermill": {
     "duration": 1.409884,
     "end_time": "2024-07-18T17:26:35.870667",
     "exception": false,
     "start_time": "2024-07-18T17:26:34.460783",
     "status": "completed"
    },
    "tags": []
   },
   "outputs": [],
   "source": [
    "import matplotlib.pyplot as plt\n",
    "%matplotlib inline\n",
    "import seaborn as sns"
   ]
  },
  {
   "cell_type": "code",
   "execution_count": 4,
   "id": "b0869b53",
   "metadata": {
    "execution": {
     "iopub.execute_input": "2024-07-18T17:26:35.884627Z",
     "iopub.status.busy": "2024-07-18T17:26:35.884149Z",
     "iopub.status.idle": "2024-07-18T17:26:35.898372Z",
     "shell.execute_reply": "2024-07-18T17:26:35.897158Z"
    },
    "papermill": {
     "duration": 0.0243,
     "end_time": "2024-07-18T17:26:35.901047",
     "exception": false,
     "start_time": "2024-07-18T17:26:35.876747",
     "status": "completed"
    },
    "tags": []
   },
   "outputs": [
    {
     "name": "stderr",
     "output_type": "stream",
     "text": [
      "/tmp/ipykernel_18/1668147272.py:2: FutureWarning: Downcasting behavior in `replace` is deprecated and will be removed in a future version. To retain the old behavior, explicitly call `result.infer_objects(copy=False)`. To opt-in to the future behavior, set `pd.set_option('future.no_silent_downcasting', True)`\n",
      "  train = train.replace({'male':0, 'female':1})\n",
      "/tmp/ipykernel_18/1668147272.py:3: FutureWarning: Downcasting behavior in `replace` is deprecated and will be removed in a future version. To retain the old behavior, explicitly call `result.infer_objects(copy=False)`. To opt-in to the future behavior, set `pd.set_option('future.no_silent_downcasting', True)`\n",
      "  test = test.replace({'male':0, 'female':1})\n"
     ]
    }
   ],
   "source": [
    "# 性別データの変換\n",
    "train = train.replace({'male':0, 'female':1})\n",
    "test = test.replace({'male':0, 'female':1})"
   ]
  },
  {
   "cell_type": "code",
   "execution_count": 5,
   "id": "5d622d61",
   "metadata": {
    "execution": {
     "iopub.execute_input": "2024-07-18T17:26:35.913847Z",
     "iopub.status.busy": "2024-07-18T17:26:35.913411Z",
     "iopub.status.idle": "2024-07-18T17:26:35.943448Z",
     "shell.execute_reply": "2024-07-18T17:26:35.942144Z"
    },
    "papermill": {
     "duration": 0.039313,
     "end_time": "2024-07-18T17:26:35.946015",
     "exception": false,
     "start_time": "2024-07-18T17:26:35.906702",
     "status": "completed"
    },
    "tags": []
   },
   "outputs": [
    {
     "name": "stdout",
     "output_type": "stream",
     "text": [
      "<class 'pandas.core.frame.DataFrame'>\n",
      "RangeIndex: 891 entries, 0 to 890\n",
      "Data columns (total 12 columns):\n",
      " #   Column       Non-Null Count  Dtype  \n",
      "---  ------       --------------  -----  \n",
      " 0   PassengerId  891 non-null    int64  \n",
      " 1   Survived     891 non-null    int64  \n",
      " 2   Pclass       891 non-null    int64  \n",
      " 3   Name         891 non-null    object \n",
      " 4   Sex          891 non-null    int64  \n",
      " 5   Age          714 non-null    float64\n",
      " 6   SibSp        891 non-null    int64  \n",
      " 7   Parch        891 non-null    int64  \n",
      " 8   Ticket       891 non-null    object \n",
      " 9   Fare         891 non-null    float64\n",
      " 10  Cabin        204 non-null    object \n",
      " 11  Embarked     889 non-null    object \n",
      "dtypes: float64(2), int64(6), object(4)\n",
      "memory usage: 83.7+ KB\n"
     ]
    }
   ],
   "source": [
    "train.info()"
   ]
  },
  {
   "cell_type": "code",
   "execution_count": 6,
   "id": "dae592df",
   "metadata": {
    "execution": {
     "iopub.execute_input": "2024-07-18T17:26:35.959578Z",
     "iopub.status.busy": "2024-07-18T17:26:35.959152Z",
     "iopub.status.idle": "2024-07-18T17:26:35.971077Z",
     "shell.execute_reply": "2024-07-18T17:26:35.970037Z"
    },
    "papermill": {
     "duration": 0.021538,
     "end_time": "2024-07-18T17:26:35.973727",
     "exception": false,
     "start_time": "2024-07-18T17:26:35.952189",
     "status": "completed"
    },
    "tags": []
   },
   "outputs": [
    {
     "name": "stdout",
     "output_type": "stream",
     "text": [
      "<class 'pandas.core.frame.DataFrame'>\n",
      "RangeIndex: 418 entries, 0 to 417\n",
      "Data columns (total 11 columns):\n",
      " #   Column       Non-Null Count  Dtype  \n",
      "---  ------       --------------  -----  \n",
      " 0   PassengerId  418 non-null    int64  \n",
      " 1   Pclass       418 non-null    int64  \n",
      " 2   Name         418 non-null    object \n",
      " 3   Sex          418 non-null    int64  \n",
      " 4   Age          332 non-null    float64\n",
      " 5   SibSp        418 non-null    int64  \n",
      " 6   Parch        418 non-null    int64  \n",
      " 7   Ticket       418 non-null    object \n",
      " 8   Fare         417 non-null    float64\n",
      " 9   Cabin        91 non-null     object \n",
      " 10  Embarked     418 non-null    object \n",
      "dtypes: float64(2), int64(5), object(4)\n",
      "memory usage: 36.0+ KB\n"
     ]
    }
   ],
   "source": [
    "test.info()"
   ]
  },
  {
   "cell_type": "code",
   "execution_count": 7,
   "id": "466d14b6",
   "metadata": {
    "execution": {
     "iopub.execute_input": "2024-07-18T17:26:35.987245Z",
     "iopub.status.busy": "2024-07-18T17:26:35.986854Z",
     "iopub.status.idle": "2024-07-18T17:26:36.028851Z",
     "shell.execute_reply": "2024-07-18T17:26:36.027637Z"
    },
    "papermill": {
     "duration": 0.051513,
     "end_time": "2024-07-18T17:26:36.031324",
     "exception": false,
     "start_time": "2024-07-18T17:26:35.979811",
     "status": "completed"
    },
    "tags": []
   },
   "outputs": [
    {
     "name": "stdout",
     "output_type": "stream",
     "text": [
      "<class 'pandas.core.frame.DataFrame'>\n",
      "RangeIndex: 891 entries, 0 to 890\n",
      "Data columns (total 15 columns):\n",
      " #   Column       Non-Null Count  Dtype  \n",
      "---  ------       --------------  -----  \n",
      " 0   PassengerId  891 non-null    int64  \n",
      " 1   Survived     891 non-null    int64  \n",
      " 2   Pclass       891 non-null    int64  \n",
      " 3   Name         891 non-null    object \n",
      " 4   Sex          891 non-null    int64  \n",
      " 5   Age          714 non-null    float64\n",
      " 6   SibSp        891 non-null    int64  \n",
      " 7   Parch        891 non-null    int64  \n",
      " 8   Ticket       891 non-null    object \n",
      " 9   Fare         891 non-null    float64\n",
      " 10  Cabin        204 non-null    object \n",
      " 11  Embarked     891 non-null    object \n",
      " 12  C            891 non-null    uint8  \n",
      " 13  Q            891 non-null    uint8  \n",
      " 14  S            891 non-null    uint8  \n",
      "dtypes: float64(2), int64(6), object(4), uint8(3)\n",
      "memory usage: 86.3+ KB\n"
     ]
    },
    {
     "data": {
      "text/plain": [
       "None"
      ]
     },
     "metadata": {},
     "output_type": "display_data"
    },
    {
     "data": {
      "text/html": [
       "<div>\n",
       "<style scoped>\n",
       "    .dataframe tbody tr th:only-of-type {\n",
       "        vertical-align: middle;\n",
       "    }\n",
       "\n",
       "    .dataframe tbody tr th {\n",
       "        vertical-align: top;\n",
       "    }\n",
       "\n",
       "    .dataframe thead th {\n",
       "        text-align: right;\n",
       "    }\n",
       "</style>\n",
       "<table border=\"1\" class=\"dataframe\">\n",
       "  <thead>\n",
       "    <tr style=\"text-align: right;\">\n",
       "      <th></th>\n",
       "      <th>PassengerId</th>\n",
       "      <th>Survived</th>\n",
       "      <th>Pclass</th>\n",
       "      <th>Name</th>\n",
       "      <th>Sex</th>\n",
       "      <th>Age</th>\n",
       "      <th>SibSp</th>\n",
       "      <th>Parch</th>\n",
       "      <th>Ticket</th>\n",
       "      <th>Fare</th>\n",
       "      <th>Cabin</th>\n",
       "      <th>Embarked</th>\n",
       "      <th>C</th>\n",
       "      <th>Q</th>\n",
       "      <th>S</th>\n",
       "    </tr>\n",
       "  </thead>\n",
       "  <tbody>\n",
       "    <tr>\n",
       "      <th>0</th>\n",
       "      <td>1</td>\n",
       "      <td>0</td>\n",
       "      <td>3</td>\n",
       "      <td>Braund, Mr. Owen Harris</td>\n",
       "      <td>0</td>\n",
       "      <td>22.0</td>\n",
       "      <td>1</td>\n",
       "      <td>0</td>\n",
       "      <td>A/5 21171</td>\n",
       "      <td>7.2500</td>\n",
       "      <td>NaN</td>\n",
       "      <td>S</td>\n",
       "      <td>0</td>\n",
       "      <td>0</td>\n",
       "      <td>1</td>\n",
       "    </tr>\n",
       "    <tr>\n",
       "      <th>1</th>\n",
       "      <td>2</td>\n",
       "      <td>1</td>\n",
       "      <td>1</td>\n",
       "      <td>Cumings, Mrs. John Bradley (Florence Briggs Th...</td>\n",
       "      <td>1</td>\n",
       "      <td>38.0</td>\n",
       "      <td>1</td>\n",
       "      <td>0</td>\n",
       "      <td>PC 17599</td>\n",
       "      <td>71.2833</td>\n",
       "      <td>C85</td>\n",
       "      <td>C</td>\n",
       "      <td>1</td>\n",
       "      <td>0</td>\n",
       "      <td>0</td>\n",
       "    </tr>\n",
       "    <tr>\n",
       "      <th>2</th>\n",
       "      <td>3</td>\n",
       "      <td>1</td>\n",
       "      <td>3</td>\n",
       "      <td>Heikkinen, Miss. Laina</td>\n",
       "      <td>1</td>\n",
       "      <td>26.0</td>\n",
       "      <td>0</td>\n",
       "      <td>0</td>\n",
       "      <td>STON/O2. 3101282</td>\n",
       "      <td>7.9250</td>\n",
       "      <td>NaN</td>\n",
       "      <td>S</td>\n",
       "      <td>0</td>\n",
       "      <td>0</td>\n",
       "      <td>1</td>\n",
       "    </tr>\n",
       "    <tr>\n",
       "      <th>3</th>\n",
       "      <td>4</td>\n",
       "      <td>1</td>\n",
       "      <td>1</td>\n",
       "      <td>Futrelle, Mrs. Jacques Heath (Lily May Peel)</td>\n",
       "      <td>1</td>\n",
       "      <td>35.0</td>\n",
       "      <td>1</td>\n",
       "      <td>0</td>\n",
       "      <td>113803</td>\n",
       "      <td>53.1000</td>\n",
       "      <td>C123</td>\n",
       "      <td>S</td>\n",
       "      <td>0</td>\n",
       "      <td>0</td>\n",
       "      <td>1</td>\n",
       "    </tr>\n",
       "    <tr>\n",
       "      <th>4</th>\n",
       "      <td>5</td>\n",
       "      <td>0</td>\n",
       "      <td>3</td>\n",
       "      <td>Allen, Mr. William Henry</td>\n",
       "      <td>0</td>\n",
       "      <td>35.0</td>\n",
       "      <td>0</td>\n",
       "      <td>0</td>\n",
       "      <td>373450</td>\n",
       "      <td>8.0500</td>\n",
       "      <td>NaN</td>\n",
       "      <td>S</td>\n",
       "      <td>0</td>\n",
       "      <td>0</td>\n",
       "      <td>1</td>\n",
       "    </tr>\n",
       "  </tbody>\n",
       "</table>\n",
       "</div>"
      ],
      "text/plain": [
       "   PassengerId  Survived  Pclass  \\\n",
       "0            1         0       3   \n",
       "1            2         1       1   \n",
       "2            3         1       3   \n",
       "3            4         1       1   \n",
       "4            5         0       3   \n",
       "\n",
       "                                                Name  Sex   Age  SibSp  Parch  \\\n",
       "0                            Braund, Mr. Owen Harris    0  22.0      1      0   \n",
       "1  Cumings, Mrs. John Bradley (Florence Briggs Th...    1  38.0      1      0   \n",
       "2                             Heikkinen, Miss. Laina    1  26.0      0      0   \n",
       "3       Futrelle, Mrs. Jacques Heath (Lily May Peel)    1  35.0      1      0   \n",
       "4                           Allen, Mr. William Henry    0  35.0      0      0   \n",
       "\n",
       "             Ticket     Fare Cabin Embarked  C  Q  S  \n",
       "0         A/5 21171   7.2500   NaN        S  0  0  1  \n",
       "1          PC 17599  71.2833   C85        C  1  0  0  \n",
       "2  STON/O2. 3101282   7.9250   NaN        S  0  0  1  \n",
       "3            113803  53.1000  C123        S  0  0  1  \n",
       "4            373450   8.0500   NaN        S  0  0  1  "
      ]
     },
     "execution_count": 7,
     "metadata": {},
     "output_type": "execute_result"
    }
   ],
   "source": [
    "# Embarkedの欠損値を埋め、ダミー変数化\n",
    "train['Embarked'] = train['Embarked'].fillna(train['Embarked'].mode()[0])\n",
    "test['Embarked'] = test['Embarked'].fillna(test['Embarked'].mode()[0])\n",
    "\n",
    "train_add_dum = pd.get_dummies(train['Embarked'], dtype='uint8')\n",
    "test_add_dum = pd.get_dummies(test['Embarked'], dtype='uint8')\n",
    "\n",
    "train_add_dum = pd.concat([train, train_add_dum], axis=1)\n",
    "test_add_dum = pd.concat([test, test_add_dum], axis=1)\n",
    "\n",
    "display(train_add_dum.info())\n",
    "train_add_dum.head()"
   ]
  },
  {
   "cell_type": "code",
   "execution_count": 8,
   "id": "eba8e801",
   "metadata": {
    "execution": {
     "iopub.execute_input": "2024-07-18T17:26:36.045614Z",
     "iopub.status.busy": "2024-07-18T17:26:36.045214Z",
     "iopub.status.idle": "2024-07-18T17:26:36.063064Z",
     "shell.execute_reply": "2024-07-18T17:26:36.061786Z"
    },
    "papermill": {
     "duration": 0.027973,
     "end_time": "2024-07-18T17:26:36.065593",
     "exception": false,
     "start_time": "2024-07-18T17:26:36.037620",
     "status": "completed"
    },
    "tags": []
   },
   "outputs": [
    {
     "name": "stdout",
     "output_type": "stream",
     "text": [
      "<class 'pandas.core.frame.DataFrame'>\n",
      "Index: 714 entries, 0 to 890\n",
      "Data columns (total 15 columns):\n",
      " #   Column       Non-Null Count  Dtype  \n",
      "---  ------       --------------  -----  \n",
      " 0   PassengerId  714 non-null    int64  \n",
      " 1   Survived     714 non-null    int64  \n",
      " 2   Pclass       714 non-null    int64  \n",
      " 3   Name         714 non-null    object \n",
      " 4   Sex          714 non-null    int64  \n",
      " 5   Age          714 non-null    float64\n",
      " 6   SibSp        714 non-null    int64  \n",
      " 7   Parch        714 non-null    int64  \n",
      " 8   Ticket       714 non-null    object \n",
      " 9   Fare         714 non-null    float64\n",
      " 10  Cabin        185 non-null    object \n",
      " 11  Embarked     714 non-null    object \n",
      " 12  C            714 non-null    uint8  \n",
      " 13  Q            714 non-null    uint8  \n",
      " 14  S            714 non-null    uint8  \n",
      "dtypes: float64(2), int64(6), object(4), uint8(3)\n",
      "memory usage: 74.6+ KB\n"
     ]
    }
   ],
   "source": [
    "# 年齢の空白データを削除\n",
    "train_age_clean = train_add_dum.dropna(subset='Age')\n",
    "train_age_clean.info()"
   ]
  },
  {
   "cell_type": "code",
   "execution_count": 9,
   "id": "932274a9",
   "metadata": {
    "execution": {
     "iopub.execute_input": "2024-07-18T17:26:36.080264Z",
     "iopub.status.busy": "2024-07-18T17:26:36.079340Z",
     "iopub.status.idle": "2024-07-18T17:26:36.086019Z",
     "shell.execute_reply": "2024-07-18T17:26:36.084855Z"
    },
    "papermill": {
     "duration": 0.016315,
     "end_time": "2024-07-18T17:26:36.088208",
     "exception": false,
     "start_time": "2024-07-18T17:26:36.071893",
     "status": "completed"
    },
    "tags": []
   },
   "outputs": [],
   "source": [
    "# 使用特徴量とターゲットを抽出する\n",
    "feature_list = ['Pclass', 'Sex', 'Age', 'SibSp', 'Parch', 'Fare', \"C\", \"Q\", \"S\" ]\n",
    "train_features = train_age_clean[feature_list]\n",
    "train_target = train_age_clean['Survived']"
   ]
  },
  {
   "cell_type": "code",
   "execution_count": 10,
   "id": "758440f5",
   "metadata": {
    "execution": {
     "iopub.execute_input": "2024-07-18T17:26:36.102927Z",
     "iopub.status.busy": "2024-07-18T17:26:36.102568Z",
     "iopub.status.idle": "2024-07-18T17:26:36.935404Z",
     "shell.execute_reply": "2024-07-18T17:26:36.934132Z"
    },
    "papermill": {
     "duration": 0.842679,
     "end_time": "2024-07-18T17:26:36.937805",
     "exception": false,
     "start_time": "2024-07-18T17:26:36.095126",
     "status": "completed"
    },
    "tags": []
   },
   "outputs": [
    {
     "data": {
      "text/html": [
       "<style>#sk-container-id-1 {color: black;background-color: white;}#sk-container-id-1 pre{padding: 0;}#sk-container-id-1 div.sk-toggleable {background-color: white;}#sk-container-id-1 label.sk-toggleable__label {cursor: pointer;display: block;width: 100%;margin-bottom: 0;padding: 0.3em;box-sizing: border-box;text-align: center;}#sk-container-id-1 label.sk-toggleable__label-arrow:before {content: \"▸\";float: left;margin-right: 0.25em;color: #696969;}#sk-container-id-1 label.sk-toggleable__label-arrow:hover:before {color: black;}#sk-container-id-1 div.sk-estimator:hover label.sk-toggleable__label-arrow:before {color: black;}#sk-container-id-1 div.sk-toggleable__content {max-height: 0;max-width: 0;overflow: hidden;text-align: left;background-color: #f0f8ff;}#sk-container-id-1 div.sk-toggleable__content pre {margin: 0.2em;color: black;border-radius: 0.25em;background-color: #f0f8ff;}#sk-container-id-1 input.sk-toggleable__control:checked~div.sk-toggleable__content {max-height: 200px;max-width: 100%;overflow: auto;}#sk-container-id-1 input.sk-toggleable__control:checked~label.sk-toggleable__label-arrow:before {content: \"▾\";}#sk-container-id-1 div.sk-estimator input.sk-toggleable__control:checked~label.sk-toggleable__label {background-color: #d4ebff;}#sk-container-id-1 div.sk-label input.sk-toggleable__control:checked~label.sk-toggleable__label {background-color: #d4ebff;}#sk-container-id-1 input.sk-hidden--visually {border: 0;clip: rect(1px 1px 1px 1px);clip: rect(1px, 1px, 1px, 1px);height: 1px;margin: -1px;overflow: hidden;padding: 0;position: absolute;width: 1px;}#sk-container-id-1 div.sk-estimator {font-family: monospace;background-color: #f0f8ff;border: 1px dotted black;border-radius: 0.25em;box-sizing: border-box;margin-bottom: 0.5em;}#sk-container-id-1 div.sk-estimator:hover {background-color: #d4ebff;}#sk-container-id-1 div.sk-parallel-item::after {content: \"\";width: 100%;border-bottom: 1px solid gray;flex-grow: 1;}#sk-container-id-1 div.sk-label:hover label.sk-toggleable__label {background-color: #d4ebff;}#sk-container-id-1 div.sk-serial::before {content: \"\";position: absolute;border-left: 1px solid gray;box-sizing: border-box;top: 0;bottom: 0;left: 50%;z-index: 0;}#sk-container-id-1 div.sk-serial {display: flex;flex-direction: column;align-items: center;background-color: white;padding-right: 0.2em;padding-left: 0.2em;position: relative;}#sk-container-id-1 div.sk-item {position: relative;z-index: 1;}#sk-container-id-1 div.sk-parallel {display: flex;align-items: stretch;justify-content: center;background-color: white;position: relative;}#sk-container-id-1 div.sk-item::before, #sk-container-id-1 div.sk-parallel-item::before {content: \"\";position: absolute;border-left: 1px solid gray;box-sizing: border-box;top: 0;bottom: 0;left: 50%;z-index: -1;}#sk-container-id-1 div.sk-parallel-item {display: flex;flex-direction: column;z-index: 1;position: relative;background-color: white;}#sk-container-id-1 div.sk-parallel-item:first-child::after {align-self: flex-end;width: 50%;}#sk-container-id-1 div.sk-parallel-item:last-child::after {align-self: flex-start;width: 50%;}#sk-container-id-1 div.sk-parallel-item:only-child::after {width: 0;}#sk-container-id-1 div.sk-dashed-wrapped {border: 1px dashed gray;margin: 0 0.4em 0.5em 0.4em;box-sizing: border-box;padding-bottom: 0.4em;background-color: white;}#sk-container-id-1 div.sk-label label {font-family: monospace;font-weight: bold;display: inline-block;line-height: 1.2em;}#sk-container-id-1 div.sk-label-container {text-align: center;}#sk-container-id-1 div.sk-container {/* jupyter's `normalize.less` sets `[hidden] { display: none; }` but bootstrap.min.css set `[hidden] { display: none !important; }` so we also need the `!important` here to be able to override the default hidden behavior on the sphinx rendered scikit-learn.org. See: https://github.com/scikit-learn/scikit-learn/issues/21755 */display: inline-block !important;position: relative;}#sk-container-id-1 div.sk-text-repr-fallback {display: none;}</style><div id=\"sk-container-id-1\" class=\"sk-top-container\"><div class=\"sk-text-repr-fallback\"><pre>RandomForestClassifier(random_state=0)</pre><b>In a Jupyter environment, please rerun this cell to show the HTML representation or trust the notebook. <br />On GitHub, the HTML representation is unable to render, please try loading this page with nbviewer.org.</b></div><div class=\"sk-container\" hidden><div class=\"sk-item\"><div class=\"sk-estimator sk-toggleable\"><input class=\"sk-toggleable__control sk-hidden--visually\" id=\"sk-estimator-id-1\" type=\"checkbox\" checked><label for=\"sk-estimator-id-1\" class=\"sk-toggleable__label sk-toggleable__label-arrow\">RandomForestClassifier</label><div class=\"sk-toggleable__content\"><pre>RandomForestClassifier(random_state=0)</pre></div></div></div></div></div>"
      ],
      "text/plain": [
       "RandomForestClassifier(random_state=0)"
      ]
     },
     "execution_count": 10,
     "metadata": {},
     "output_type": "execute_result"
    }
   ],
   "source": [
    "# ランダムフォレストによる重要特徴量を確認する\n",
    "from sklearn.model_selection import train_test_split\n",
    "X_train, X_test, y_train, y_test = train_test_split(train_features, train_target, random_state=5)\n",
    "\n",
    "from sklearn.ensemble import RandomForestClassifier\n",
    "feature_names = feature_list\n",
    "forest = RandomForestClassifier(random_state=0)\n",
    "forest.fit(X_train, y_train)"
   ]
  },
  {
   "cell_type": "code",
   "execution_count": 11,
   "id": "ed15a8ab",
   "metadata": {
    "execution": {
     "iopub.execute_input": "2024-07-18T17:26:36.953396Z",
     "iopub.status.busy": "2024-07-18T17:26:36.952321Z",
     "iopub.status.idle": "2024-07-18T17:26:37.409434Z",
     "shell.execute_reply": "2024-07-18T17:26:37.408257Z"
    },
    "papermill": {
     "duration": 0.467893,
     "end_time": "2024-07-18T17:26:37.412178",
     "exception": false,
     "start_time": "2024-07-18T17:26:36.944285",
     "status": "completed"
    },
    "tags": []
   },
   "outputs": [
    {
     "data": {
      "image/png": "[encoded data removed]",
      "text/plain": [
       "<Figure size 640x480 with 1 Axes>"
      ]
     },
     "metadata": {},
     "output_type": "display_data"
    }
   ],
   "source": [
    "# 不純度減少に基づく特徴の重要性の確認\n",
    "import numpy as np\n",
    "importances = forest.feature_importances_\n",
    "std = np.std([tree.feature_importances_ for tree in forest.estimators_], axis=0)\n",
    "\n",
    "import pandas as pd\n",
    "forest_importances = pd.Series(importances, index=feature_names)\n",
    "\n",
    "fig, ax = plt.subplots()\n",
    "forest_importances.plot.bar(yerr=std, ax=ax)\n",
    "ax.set_title('Feature importances using MDI')\n",
    "ax.set_ylabel('Mean decrease in impurity')\n",
    "fig.tight_layout()"
   ]
  },
  {
   "cell_type": "code",
   "execution_count": 12,
   "id": "b847829c",
   "metadata": {
    "execution": {
     "iopub.execute_input": "2024-07-18T17:26:37.427818Z",
     "iopub.status.busy": "2024-07-18T17:26:37.427397Z",
     "iopub.status.idle": "2024-07-18T17:26:37.721402Z",
     "shell.execute_reply": "2024-07-18T17:26:37.720243Z"
    },
    "papermill": {
     "duration": 0.304422,
     "end_time": "2024-07-18T17:26:37.723665",
     "exception": false,
     "start_time": "2024-07-18T17:26:37.419243",
     "status": "completed"
    },
    "tags": []
   },
   "outputs": [
    {
     "data": {
      "text/plain": [
       "<Axes: xlabel='Pclass', ylabel='Fare'>"
      ]
     },
     "execution_count": 12,
     "metadata": {},
     "output_type": "execute_result"
    },
    {
     "data": {
      "image/png": "[encoded data removed]",
      "text/plain": [
       "<Figure size 640x480 with 1 Axes>"
      ]
     },
     "metadata": {},
     "output_type": "display_data"
    }
   ],
   "source": [
    "sns.scatterplot(x='Pclass', y='Fare', data=train_age_clean)"
   ]
  },
  {
   "cell_type": "code",
   "execution_count": 13,
   "id": "7b3c9a9e",
   "metadata": {
    "execution": {
     "iopub.execute_input": "2024-07-18T17:26:37.740190Z",
     "iopub.status.busy": "2024-07-18T17:26:37.739804Z",
     "iopub.status.idle": "2024-07-18T17:26:37.750993Z",
     "shell.execute_reply": "2024-07-18T17:26:37.749774Z"
    },
    "papermill": {
     "duration": 0.022161,
     "end_time": "2024-07-18T17:26:37.753274",
     "exception": false,
     "start_time": "2024-07-18T17:26:37.731113",
     "status": "completed"
    },
    "tags": []
   },
   "outputs": [],
   "source": [
    "# Fareの欠損値をチケットクラスごとの中央値で埋める\n",
    "train_add_dum.loc[train_add_dum['Fare'].isnull(), 'Fare'] = train_add_dum.groupby('Pclass')['Fare'].transform('median')\n",
    "test_add_dum.loc[test_add_dum['Fare'].isnull(), 'Fare'] = test_add_dum.groupby('Pclass')['Fare'].transform('median')"
   ]
  },
  {
   "cell_type": "code",
   "execution_count": 14,
   "id": "beb197e9",
   "metadata": {
    "execution": {
     "iopub.execute_input": "2024-07-18T17:26:37.771248Z",
     "iopub.status.busy": "2024-07-18T17:26:37.770320Z",
     "iopub.status.idle": "2024-07-18T17:26:37.800938Z",
     "shell.execute_reply": "2024-07-18T17:26:37.799505Z"
    },
    "papermill": {
     "duration": 0.041738,
     "end_time": "2024-07-18T17:26:37.803437",
     "exception": false,
     "start_time": "2024-07-18T17:26:37.761699",
     "status": "completed"
    },
    "tags": []
   },
   "outputs": [
    {
     "name": "stdout",
     "output_type": "stream",
     "text": [
      "<class 'pandas.core.frame.DataFrame'>\n",
      "RangeIndex: 891 entries, 0 to 890\n",
      "Data columns (total 15 columns):\n",
      " #   Column       Non-Null Count  Dtype  \n",
      "---  ------       --------------  -----  \n",
      " 0   PassengerId  891 non-null    int64  \n",
      " 1   Survived     891 non-null    int64  \n",
      " 2   Pclass       891 non-null    int64  \n",
      " 3   Name         891 non-null    object \n",
      " 4   Sex          891 non-null    int64  \n",
      " 5   Age          891 non-null    float64\n",
      " 6   SibSp        891 non-null    int64  \n",
      " 7   Parch        891 non-null    int64  \n",
      " 8   Ticket       891 non-null    object \n",
      " 9   Fare         891 non-null    float64\n",
      " 10  Cabin        204 non-null    object \n",
      " 11  Embarked     891 non-null    object \n",
      " 12  C            891 non-null    uint8  \n",
      " 13  Q            891 non-null    uint8  \n",
      " 14  S            891 non-null    uint8  \n",
      "dtypes: float64(2), int64(6), object(4), uint8(3)\n",
      "memory usage: 86.3+ KB\n"
     ]
    },
    {
     "data": {
      "text/plain": [
       "None"
      ]
     },
     "metadata": {},
     "output_type": "display_data"
    },
    {
     "name": "stdout",
     "output_type": "stream",
     "text": [
      "<class 'pandas.core.frame.DataFrame'>\n",
      "RangeIndex: 418 entries, 0 to 417\n",
      "Data columns (total 14 columns):\n",
      " #   Column       Non-Null Count  Dtype  \n",
      "---  ------       --------------  -----  \n",
      " 0   PassengerId  418 non-null    int64  \n",
      " 1   Pclass       418 non-null    int64  \n",
      " 2   Name         418 non-null    object \n",
      " 3   Sex          418 non-null    int64  \n",
      " 4   Age          418 non-null    float64\n",
      " 5   SibSp        418 non-null    int64  \n",
      " 6   Parch        418 non-null    int64  \n",
      " 7   Ticket       418 non-null    object \n",
      " 8   Fare         418 non-null    float64\n",
      " 9   Cabin        91 non-null     object \n",
      " 10  Embarked     418 non-null    object \n",
      " 11  C            418 non-null    uint8  \n",
      " 12  Q            418 non-null    uint8  \n",
      " 13  S            418 non-null    uint8  \n",
      "dtypes: float64(2), int64(5), object(4), uint8(3)\n",
      "memory usage: 37.3+ KB\n"
     ]
    },
    {
     "data": {
      "text/plain": [
       "None"
      ]
     },
     "metadata": {},
     "output_type": "display_data"
    }
   ],
   "source": [
    "# 'Age'の欠損値をチケットクラスごとの中央値で埋める\n",
    "train_add_dum.loc[train_add_dum['Age'].isnull(), 'Age'] = train_add_dum.groupby('Pclass')['Age'].transform('median')\n",
    "test_add_dum.loc[test_add_dum['Age'].isnull(), 'Age'] = test_add_dum.groupby('Pclass')['Age'].transform('median')\n",
    "display(train_add_dum.info())\n",
    "display(test_add_dum.info())"
   ]
  },
  {
   "cell_type": "code",
   "execution_count": 15,
   "id": "fc3fea65",
   "metadata": {
    "execution": {
     "iopub.execute_input": "2024-07-18T17:26:37.821192Z",
     "iopub.status.busy": "2024-07-18T17:26:37.820430Z",
     "iopub.status.idle": "2024-07-18T17:26:37.828218Z",
     "shell.execute_reply": "2024-07-18T17:26:37.826943Z"
    },
    "papermill": {
     "duration": 0.019206,
     "end_time": "2024-07-18T17:26:37.830441",
     "exception": false,
     "start_time": "2024-07-18T17:26:37.811235",
     "status": "completed"
    },
    "tags": []
   },
   "outputs": [],
   "source": [
    "train_features = train_add_dum[['Sex','Age', 'Fare']].values\n",
    "train_target = train['Survived'].values\n",
    "train_features_tr, train_features_va, train_target_tr, train_target_va = train_test_split(train_features, train_target, test_size=0.2, random_state=0)"
   ]
  },
  {
   "cell_type": "code",
   "execution_count": 16,
   "id": "86f32e22",
   "metadata": {
    "execution": {
     "iopub.execute_input": "2024-07-18T17:26:37.847848Z",
     "iopub.status.busy": "2024-07-18T17:26:37.847425Z",
     "iopub.status.idle": "2024-07-18T17:26:37.859660Z",
     "shell.execute_reply": "2024-07-18T17:26:37.858615Z"
    },
    "papermill": {
     "duration": 0.023561,
     "end_time": "2024-07-18T17:26:37.862049",
     "exception": false,
     "start_time": "2024-07-18T17:26:37.838488",
     "status": "completed"
    },
    "tags": []
   },
   "outputs": [
    {
     "data": {
      "text/plain": [
       "(712, 3)"
      ]
     },
     "metadata": {},
     "output_type": "display_data"
    },
    {
     "data": {
      "text/plain": [
       "(179, 3)"
      ]
     },
     "metadata": {},
     "output_type": "display_data"
    },
    {
     "data": {
      "text/plain": [
       "(712,)"
      ]
     },
     "metadata": {},
     "output_type": "display_data"
    },
    {
     "data": {
      "text/plain": [
       "(179,)"
      ]
     },
     "metadata": {},
     "output_type": "display_data"
    }
   ],
   "source": [
    "display(train_features_tr.shape)\n",
    "display(train_features_va.shape)\n",
    "display(train_target_tr.shape)\n",
    "display(train_target_va.shape)"
   ]
  },
  {
   "cell_type": "code",
   "execution_count": 17,
   "id": "4231afe5",
   "metadata": {
    "execution": {
     "iopub.execute_input": "2024-07-18T17:26:37.880446Z",
     "iopub.status.busy": "2024-07-18T17:26:37.880057Z",
     "iopub.status.idle": "2024-07-18T17:27:25.622620Z",
     "shell.execute_reply": "2024-07-18T17:27:25.621606Z"
    },
    "papermill": {
     "duration": 47.761869,
     "end_time": "2024-07-18T17:27:25.632412",
     "exception": false,
     "start_time": "2024-07-18T17:26:37.870543",
     "status": "completed"
    },
    "tags": []
   },
   "outputs": [
    {
     "data": {
      "text/plain": [
       "{'max_depth': 5, 'n_estimators': 160}"
      ]
     },
     "metadata": {},
     "output_type": "display_data"
    },
    {
     "data": {
      "text/plain": [
       "0.7935585541219343"
      ]
     },
     "metadata": {},
     "output_type": "display_data"
    },
    {
     "data": {
      "text/plain": [
       "0.8100558659217877"
      ]
     },
     "metadata": {},
     "output_type": "display_data"
    }
   ],
   "source": [
    "# グリッドサーチの実行\n",
    "from sklearn.model_selection import GridSearchCV\n",
    "rf_model = RandomForestClassifier(random_state=0)\n",
    "\n",
    "max_depth = [4, 5, 6, 7, 8, 9, 10]\n",
    "n_estimators = [120, 130, 140, 150, 160]\n",
    "\n",
    "params = {'max_depth':max_depth, 'n_estimators':n_estimators}\n",
    "\n",
    "grid_cv = GridSearchCV(estimator=rf_model, param_grid=params, cv=5)\n",
    "grid_cv.fit(train_features_tr, train_target_tr)\n",
    "\n",
    "display(grid_cv.best_params_, grid_cv.best_score_, grid_cv.score(train_features_va, train_target_va))"
   ]
  },
  {
   "cell_type": "code",
   "execution_count": 18,
   "id": "35bfb03c",
   "metadata": {
    "execution": {
     "iopub.execute_input": "2024-07-18T17:27:25.651436Z",
     "iopub.status.busy": "2024-07-18T17:27:25.651042Z",
     "iopub.status.idle": "2024-07-18T17:27:25.673618Z",
     "shell.execute_reply": "2024-07-18T17:27:25.672555Z"
    },
    "papermill": {
     "duration": 0.034904,
     "end_time": "2024-07-18T17:27:25.676035",
     "exception": false,
     "start_time": "2024-07-18T17:27:25.641131",
     "status": "completed"
    },
    "tags": []
   },
   "outputs": [
    {
     "data": {
      "text/html": [
       "<style>#sk-container-id-2 {color: black;background-color: white;}#sk-container-id-2 pre{padding: 0;}#sk-container-id-2 div.sk-toggleable {background-color: white;}#sk-container-id-2 label.sk-toggleable__label {cursor: pointer;display: block;width: 100%;margin-bottom: 0;padding: 0.3em;box-sizing: border-box;text-align: center;}#sk-container-id-2 label.sk-toggleable__label-arrow:before {content: \"▸\";float: left;margin-right: 0.25em;color: #696969;}#sk-container-id-2 label.sk-toggleable__label-arrow:hover:before {color: black;}#sk-container-id-2 div.sk-estimator:hover label.sk-toggleable__label-arrow:before {color: black;}#sk-container-id-2 div.sk-toggleable__content {max-height: 0;max-width: 0;overflow: hidden;text-align: left;background-color: #f0f8ff;}#sk-container-id-2 div.sk-toggleable__content pre {margin: 0.2em;color: black;border-radius: 0.25em;background-color: #f0f8ff;}#sk-container-id-2 input.sk-toggleable__control:checked~div.sk-toggleable__content {max-height: 200px;max-width: 100%;overflow: auto;}#sk-container-id-2 input.sk-toggleable__control:checked~label.sk-toggleable__label-arrow:before {content: \"▾\";}#sk-container-id-2 div.sk-estimator input.sk-toggleable__control:checked~label.sk-toggleable__label {background-color: #d4ebff;}#sk-container-id-2 div.sk-label input.sk-toggleable__control:checked~label.sk-toggleable__label {background-color: #d4ebff;}#sk-container-id-2 input.sk-hidden--visually {border: 0;clip: rect(1px 1px 1px 1px);clip: rect(1px, 1px, 1px, 1px);height: 1px;margin: -1px;overflow: hidden;padding: 0;position: absolute;width: 1px;}#sk-container-id-2 div.sk-estimator {font-family: monospace;background-color: #f0f8ff;border: 1px dotted black;border-radius: 0.25em;box-sizing: border-box;margin-bottom: 0.5em;}#sk-container-id-2 div.sk-estimator:hover {background-color: #d4ebff;}#sk-container-id-2 div.sk-parallel-item::after {content: \"\";width: 100%;border-bottom: 1px solid gray;flex-grow: 1;}#sk-container-id-2 div.sk-label:hover label.sk-toggleable__label {background-color: #d4ebff;}#sk-container-id-2 div.sk-serial::before {content: \"\";position: absolute;border-left: 1px solid gray;box-sizing: border-box;top: 0;bottom: 0;left: 50%;z-index: 0;}#sk-container-id-2 div.sk-serial {display: flex;flex-direction: column;align-items: center;background-color: white;padding-right: 0.2em;padding-left: 0.2em;position: relative;}#sk-container-id-2 div.sk-item {position: relative;z-index: 1;}#sk-container-id-2 div.sk-parallel {display: flex;align-items: stretch;justify-content: center;background-color: white;position: relative;}#sk-container-id-2 div.sk-item::before, #sk-container-id-2 div.sk-parallel-item::before {content: \"\";position: absolute;border-left: 1px solid gray;box-sizing: border-box;top: 0;bottom: 0;left: 50%;z-index: -1;}#sk-container-id-2 div.sk-parallel-item {display: flex;flex-direction: column;z-index: 1;position: relative;background-color: white;}#sk-container-id-2 div.sk-parallel-item:first-child::after {align-self: flex-end;width: 50%;}#sk-container-id-2 div.sk-parallel-item:last-child::after {align-self: flex-start;width: 50%;}#sk-container-id-2 div.sk-parallel-item:only-child::after {width: 0;}#sk-container-id-2 div.sk-dashed-wrapped {border: 1px dashed gray;margin: 0 0.4em 0.5em 0.4em;box-sizing: border-box;padding-bottom: 0.4em;background-color: white;}#sk-container-id-2 div.sk-label label {font-family: monospace;font-weight: bold;display: inline-block;line-height: 1.2em;}#sk-container-id-2 div.sk-label-container {text-align: center;}#sk-container-id-2 div.sk-container {/* jupyter's `normalize.less` sets `[hidden] { display: none; }` but bootstrap.min.css set `[hidden] { display: none !important; }` so we also need the `!important` here to be able to override the default hidden behavior on the sphinx rendered scikit-learn.org. See: https://github.com/scikit-learn/scikit-learn/issues/21755 */display: inline-block !important;position: relative;}#sk-container-id-2 div.sk-text-repr-fallback {display: none;}</style><div id=\"sk-container-id-2\" class=\"sk-top-container\"><div class=\"sk-text-repr-fallback\"><pre>RandomForestClassifier(max_depth=160, n_estimators=5, random_state=0)</pre><b>In a Jupyter environment, please rerun this cell to show the HTML representation or trust the notebook. <br />On GitHub, the HTML representation is unable to render, please try loading this page with nbviewer.org.</b></div><div class=\"sk-container\" hidden><div class=\"sk-item\"><div class=\"sk-estimator sk-toggleable\"><input class=\"sk-toggleable__control sk-hidden--visually\" id=\"sk-estimator-id-2\" type=\"checkbox\" checked><label for=\"sk-estimator-id-2\" class=\"sk-toggleable__label sk-toggleable__label-arrow\">RandomForestClassifier</label><div class=\"sk-toggleable__content\"><pre>RandomForestClassifier(max_depth=160, n_estimators=5, random_state=0)</pre></div></div></div></div></div>"
      ],
      "text/plain": [
       "RandomForestClassifier(max_depth=160, n_estimators=5, random_state=0)"
      ]
     },
     "execution_count": 18,
     "metadata": {},
     "output_type": "execute_result"
    }
   ],
   "source": [
    "model = RandomForestClassifier(n_estimators =5 , max_depth=160 , random_state=0)\n",
    "model.fit(train_features, train_target)"
   ]
  },
  {
   "cell_type": "code",
   "execution_count": 19,
   "id": "3989df3d",
   "metadata": {
    "execution": {
     "iopub.execute_input": "2024-07-18T17:27:25.695518Z",
     "iopub.status.busy": "2024-07-18T17:27:25.695101Z",
     "iopub.status.idle": "2024-07-18T17:27:25.706160Z",
     "shell.execute_reply": "2024-07-18T17:27:25.705032Z"
    },
    "papermill": {
     "duration": 0.023513,
     "end_time": "2024-07-18T17:27:25.708450",
     "exception": false,
     "start_time": "2024-07-18T17:27:25.684937",
     "status": "completed"
    },
    "tags": []
   },
   "outputs": [
    {
     "data": {
      "text/plain": [
       "(418,)"
      ]
     },
     "execution_count": 19,
     "metadata": {},
     "output_type": "execute_result"
    }
   ],
   "source": [
    "test_features = test_add_dum[['Sex', 'Age', 'Fare']].values\n",
    "predict_test_target = model.predict(test_features)\n",
    "predict_test_target.shape"
   ]
  },
  {
   "cell_type": "code",
   "execution_count": 20,
   "id": "ca282a72",
   "metadata": {
    "execution": {
     "iopub.execute_input": "2024-07-18T17:27:25.728150Z",
     "iopub.status.busy": "2024-07-18T17:27:25.727321Z",
     "iopub.status.idle": "2024-07-18T17:27:25.736543Z",
     "shell.execute_reply": "2024-07-18T17:27:25.735487Z"
    },
    "papermill": {
     "duration": 0.021494,
     "end_time": "2024-07-18T17:27:25.738750",
     "exception": false,
     "start_time": "2024-07-18T17:27:25.717256",
     "status": "completed"
    },
    "tags": []
   },
   "outputs": [],
   "source": [
    "submission = pd.DataFrame({'PassengerId': test['PassengerId'], 'Survived': predict_test_target})\n",
    "submission.to_csv('submission_RandomForestClassifier_4.csv', index=False)"
   ]
  },
  {
   "cell_type": "code",
   "execution_count": null,
   "id": "9348e3e0",
   "metadata": {
    "papermill": {
     "duration": 0.008604,
     "end_time": "2024-07-18T17:27:25.757028",
     "exception": false,
     "start_time": "2024-07-18T17:27:25.748424",
     "status": "completed"
    },
    "tags": []
   },
   "outputs": [],
   "source": []
  }
 ],
 "metadata": {
  "kaggle": {
   "accelerator": "none",
   "dataSources": [
    {
     "databundleVersionId": 26502,
     "sourceId": 3136,
     "sourceType": "competition"
    }
   ],
   "dockerImageVersionId": 30746,
   "isGpuEnabled": false,
   "isInternetEnabled": false,
   "language": "python",
   "sourceType": "notebook"
  },
  "kernelspec": {
   "display_name": "Python 3",
   "language": "python",
   "name": "python3"
  },
  "language_info": {
   "codemirror_mode": {
    "name": "ipython",
    "version": 3
   },
   "file_extension": ".py",
   "mimetype": "text/x-python",
   "name": "python",
   "nbconvert_exporter": "python",
   "pygments_lexer": "ipython3",
   "version": "3.10.13"
  },
  "papermill": {
   "default_parameters": {},
   "duration": 55.759135,
   "end_time": "2024-07-18T17:27:26.386458",
   "environment_variables": {},
   "exception": null,
   "input_path": "__notebook__.ipynb",
   "output_path": "__notebook__.ipynb",
   "parameters": {},
   "start_time": "2024-07-18T17:26:30.627323",
   "version": "2.5.0"
  }
 },
 "nbformat": 4,
 "nbformat_minor": 5
}
