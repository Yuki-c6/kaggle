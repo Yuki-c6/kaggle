{
 "cells": [
  {
   "cell_type": "code",
   "execution_count": 1,
   "id": "088bdd1d",
   "metadata": {
    "_cell_guid": "b1076dfc-b9ad-4769-8c92-a6c4dae69d19",
    "_uuid": "8f2839f25d086af736a60e9eeb907d3b93b6e0e5",
    "execution": {
     "iopub.execute_input": "2024-07-18T16:19:22.815114Z",
     "iopub.status.busy": "2024-07-18T16:19:22.814717Z",
     "iopub.status.idle": "2024-07-18T16:19:23.705103Z",
     "shell.execute_reply": "2024-07-18T16:19:23.703751Z"
    },
    "papermill": {
     "duration": 0.902758,
     "end_time": "2024-07-18T16:19:23.708082",
     "exception": false,
     "start_time": "2024-07-18T16:19:22.805324",
     "status": "completed"
    },
    "tags": []
   },
   "outputs": [
    {
     "name": "stdout",
     "output_type": "stream",
     "text": [
      "/kaggle/input/titanic/train.csv\n",
      "/kaggle/input/titanic/test.csv\n",
      "/kaggle/input/titanic/gender_submission.csv\n"
     ]
    }
   ],
   "source": [
    "# This Python 3 environment comes with many helpful analytics libraries installed\n",
    "# It is defined by the kaggle/python Docker image: https://github.com/kaggle/docker-python\n",
    "# For example, here's several helpful packages to load\n",
    "\n",
    "import numpy as np # linear algebra\n",
    "import pandas as pd # data processing, CSV file I/O (e.g. pd.read_csv)\n",
    "\n",
    "# Input data files are available in the read-only \"../input/\" directory\n",
    "# For example, running this (by clicking run or pressing Shift+Enter) will list all files under the input directory\n",
    "\n",
    "import os\n",
    "for dirname, _, filenames in os.walk('/kaggle/input'):\n",
    "    for filename in filenames:\n",
    "        print(os.path.join(dirname, filename))\n",
    "\n",
    "# You can write up to 20GB to the current directory (/kaggle/working/) that gets preserved as output when you create a version using \"Save & Run All\" \n",
    "# You can also write temporary files to /kaggle/temp/, but they won't be saved outside of the current session"
   ]
  },
  {
   "cell_type": "code",
   "execution_count": 2,
   "id": "0d4ce5fe",
   "metadata": {
    "execution": {
     "iopub.execute_input": "2024-07-18T16:19:23.724311Z",
     "iopub.status.busy": "2024-07-18T16:19:23.723786Z",
     "iopub.status.idle": "2024-07-18T16:19:23.756536Z",
     "shell.execute_reply": "2024-07-18T16:19:23.755377Z"
    },
    "papermill": {
     "duration": 0.043869,
     "end_time": "2024-07-18T16:19:23.759304",
     "exception": false,
     "start_time": "2024-07-18T16:19:23.715435",
     "status": "completed"
    },
    "tags": []
   },
   "outputs": [],
   "source": [
    "# 学習データ(train.csv)とテストデータ(test.csv)のデータフレームへの読み込み\n",
    "train = pd.read_csv('/kaggle/input/titanic/train.csv')\n",
    "test = pd.read_csv('/kaggle/input/titanic/test.csv')"
   ]
  },
  {
   "cell_type": "code",
   "execution_count": 3,
   "id": "70eeec7d",
   "metadata": {
    "execution": {
     "iopub.execute_input": "2024-07-18T16:19:23.775672Z",
     "iopub.status.busy": "2024-07-18T16:19:23.774716Z",
     "iopub.status.idle": "2024-07-18T16:19:25.044150Z",
     "shell.execute_reply": "2024-07-18T16:19:25.043107Z"
    },
    "papermill": {
     "duration": 1.28066,
     "end_time": "2024-07-18T16:19:25.047095",
     "exception": false,
     "start_time": "2024-07-18T16:19:23.766435",
     "status": "completed"
    },
    "tags": []
   },
   "outputs": [],
   "source": [
    "import matplotlib.pyplot as plt\n",
    "%matplotlib inline\n",
    "import seaborn as sns"
   ]
  },
  {
   "cell_type": "code",
   "execution_count": 4,
   "id": "dc5b5c59",
   "metadata": {
    "execution": {
     "iopub.execute_input": "2024-07-18T16:19:25.063326Z",
     "iopub.status.busy": "2024-07-18T16:19:25.062956Z",
     "iopub.status.idle": "2024-07-18T16:19:25.127171Z",
     "shell.execute_reply": "2024-07-18T16:19:25.125717Z"
    },
    "papermill": {
     "duration": 0.075297,
     "end_time": "2024-07-18T16:19:25.129539",
     "exception": false,
     "start_time": "2024-07-18T16:19:25.054242",
     "status": "completed"
    },
    "tags": []
   },
   "outputs": [
    {
     "data": {
      "text/html": [
       "<div>\n",
       "<style scoped>\n",
       "    .dataframe tbody tr th:only-of-type {\n",
       "        vertical-align: middle;\n",
       "    }\n",
       "\n",
       "    .dataframe tbody tr th {\n",
       "        vertical-align: top;\n",
       "    }\n",
       "\n",
       "    .dataframe thead th {\n",
       "        text-align: right;\n",
       "    }\n",
       "</style>\n",
       "<table border=\"1\" class=\"dataframe\">\n",
       "  <thead>\n",
       "    <tr style=\"text-align: right;\">\n",
       "      <th></th>\n",
       "      <th>PassengerId</th>\n",
       "      <th>Survived</th>\n",
       "      <th>Pclass</th>\n",
       "      <th>Age</th>\n",
       "      <th>SibSp</th>\n",
       "      <th>Parch</th>\n",
       "      <th>Fare</th>\n",
       "    </tr>\n",
       "  </thead>\n",
       "  <tbody>\n",
       "    <tr>\n",
       "      <th>count</th>\n",
       "      <td>891.000000</td>\n",
       "      <td>891.000000</td>\n",
       "      <td>891.000000</td>\n",
       "      <td>714.000000</td>\n",
       "      <td>891.000000</td>\n",
       "      <td>891.000000</td>\n",
       "      <td>891.000000</td>\n",
       "    </tr>\n",
       "    <tr>\n",
       "      <th>mean</th>\n",
       "      <td>446.000000</td>\n",
       "      <td>0.383838</td>\n",
       "      <td>2.308642</td>\n",
       "      <td>29.699118</td>\n",
       "      <td>0.523008</td>\n",
       "      <td>0.381594</td>\n",
       "      <td>32.204208</td>\n",
       "    </tr>\n",
       "    <tr>\n",
       "      <th>std</th>\n",
       "      <td>257.353842</td>\n",
       "      <td>0.486592</td>\n",
       "      <td>0.836071</td>\n",
       "      <td>14.526497</td>\n",
       "      <td>1.102743</td>\n",
       "      <td>0.806057</td>\n",
       "      <td>49.693429</td>\n",
       "    </tr>\n",
       "    <tr>\n",
       "      <th>min</th>\n",
       "      <td>1.000000</td>\n",
       "      <td>0.000000</td>\n",
       "      <td>1.000000</td>\n",
       "      <td>0.420000</td>\n",
       "      <td>0.000000</td>\n",
       "      <td>0.000000</td>\n",
       "      <td>0.000000</td>\n",
       "    </tr>\n",
       "    <tr>\n",
       "      <th>25%</th>\n",
       "      <td>223.500000</td>\n",
       "      <td>0.000000</td>\n",
       "      <td>2.000000</td>\n",
       "      <td>20.125000</td>\n",
       "      <td>0.000000</td>\n",
       "      <td>0.000000</td>\n",
       "      <td>7.910400</td>\n",
       "    </tr>\n",
       "    <tr>\n",
       "      <th>50%</th>\n",
       "      <td>446.000000</td>\n",
       "      <td>0.000000</td>\n",
       "      <td>3.000000</td>\n",
       "      <td>28.000000</td>\n",
       "      <td>0.000000</td>\n",
       "      <td>0.000000</td>\n",
       "      <td>14.454200</td>\n",
       "    </tr>\n",
       "    <tr>\n",
       "      <th>75%</th>\n",
       "      <td>668.500000</td>\n",
       "      <td>1.000000</td>\n",
       "      <td>3.000000</td>\n",
       "      <td>38.000000</td>\n",
       "      <td>1.000000</td>\n",
       "      <td>0.000000</td>\n",
       "      <td>31.000000</td>\n",
       "    </tr>\n",
       "    <tr>\n",
       "      <th>max</th>\n",
       "      <td>891.000000</td>\n",
       "      <td>1.000000</td>\n",
       "      <td>3.000000</td>\n",
       "      <td>80.000000</td>\n",
       "      <td>8.000000</td>\n",
       "      <td>6.000000</td>\n",
       "      <td>512.329200</td>\n",
       "    </tr>\n",
       "  </tbody>\n",
       "</table>\n",
       "</div>"
      ],
      "text/plain": [
       "       PassengerId    Survived      Pclass         Age       SibSp  \\\n",
       "count   891.000000  891.000000  891.000000  714.000000  891.000000   \n",
       "mean    446.000000    0.383838    2.308642   29.699118    0.523008   \n",
       "std     257.353842    0.486592    0.836071   14.526497    1.102743   \n",
       "min       1.000000    0.000000    1.000000    0.420000    0.000000   \n",
       "25%     223.500000    0.000000    2.000000   20.125000    0.000000   \n",
       "50%     446.000000    0.000000    3.000000   28.000000    0.000000   \n",
       "75%     668.500000    1.000000    3.000000   38.000000    1.000000   \n",
       "max     891.000000    1.000000    3.000000   80.000000    8.000000   \n",
       "\n",
       "            Parch        Fare  \n",
       "count  891.000000  891.000000  \n",
       "mean     0.381594   32.204208  \n",
       "std      0.806057   49.693429  \n",
       "min      0.000000    0.000000  \n",
       "25%      0.000000    7.910400  \n",
       "50%      0.000000   14.454200  \n",
       "75%      0.000000   31.000000  \n",
       "max      6.000000  512.329200  "
      ]
     },
     "metadata": {},
     "output_type": "display_data"
    },
    {
     "name": "stdout",
     "output_type": "stream",
     "text": [
      "<class 'pandas.core.frame.DataFrame'>\n",
      "RangeIndex: 891 entries, 0 to 890\n",
      "Data columns (total 12 columns):\n",
      " #   Column       Non-Null Count  Dtype  \n",
      "---  ------       --------------  -----  \n",
      " 0   PassengerId  891 non-null    int64  \n",
      " 1   Survived     891 non-null    int64  \n",
      " 2   Pclass       891 non-null    int64  \n",
      " 3   Name         891 non-null    object \n",
      " 4   Sex          891 non-null    object \n",
      " 5   Age          714 non-null    float64\n",
      " 6   SibSp        891 non-null    int64  \n",
      " 7   Parch        891 non-null    int64  \n",
      " 8   Ticket       891 non-null    object \n",
      " 9   Fare         891 non-null    float64\n",
      " 10  Cabin        204 non-null    object \n",
      " 11  Embarked     889 non-null    object \n",
      "dtypes: float64(2), int64(5), object(5)\n",
      "memory usage: 83.7+ KB\n"
     ]
    }
   ],
   "source": [
    "display(train.describe())\n",
    "train.info()"
   ]
  },
  {
   "cell_type": "code",
   "execution_count": 5,
   "id": "4501b434",
   "metadata": {
    "execution": {
     "iopub.execute_input": "2024-07-18T16:19:25.146048Z",
     "iopub.status.busy": "2024-07-18T16:19:25.145632Z",
     "iopub.status.idle": "2024-07-18T16:19:25.181525Z",
     "shell.execute_reply": "2024-07-18T16:19:25.180424Z"
    },
    "papermill": {
     "duration": 0.04789,
     "end_time": "2024-07-18T16:19:25.184888",
     "exception": false,
     "start_time": "2024-07-18T16:19:25.136998",
     "status": "completed"
    },
    "tags": []
   },
   "outputs": [
    {
     "data": {
      "text/html": [
       "<div>\n",
       "<style scoped>\n",
       "    .dataframe tbody tr th:only-of-type {\n",
       "        vertical-align: middle;\n",
       "    }\n",
       "\n",
       "    .dataframe tbody tr th {\n",
       "        vertical-align: top;\n",
       "    }\n",
       "\n",
       "    .dataframe thead th {\n",
       "        text-align: right;\n",
       "    }\n",
       "</style>\n",
       "<table border=\"1\" class=\"dataframe\">\n",
       "  <thead>\n",
       "    <tr style=\"text-align: right;\">\n",
       "      <th></th>\n",
       "      <th>PassengerId</th>\n",
       "      <th>Pclass</th>\n",
       "      <th>Age</th>\n",
       "      <th>SibSp</th>\n",
       "      <th>Parch</th>\n",
       "      <th>Fare</th>\n",
       "    </tr>\n",
       "  </thead>\n",
       "  <tbody>\n",
       "    <tr>\n",
       "      <th>count</th>\n",
       "      <td>418.000000</td>\n",
       "      <td>418.000000</td>\n",
       "      <td>332.000000</td>\n",
       "      <td>418.000000</td>\n",
       "      <td>418.000000</td>\n",
       "      <td>417.000000</td>\n",
       "    </tr>\n",
       "    <tr>\n",
       "      <th>mean</th>\n",
       "      <td>1100.500000</td>\n",
       "      <td>2.265550</td>\n",
       "      <td>30.272590</td>\n",
       "      <td>0.447368</td>\n",
       "      <td>0.392344</td>\n",
       "      <td>35.627188</td>\n",
       "    </tr>\n",
       "    <tr>\n",
       "      <th>std</th>\n",
       "      <td>120.810458</td>\n",
       "      <td>0.841838</td>\n",
       "      <td>14.181209</td>\n",
       "      <td>0.896760</td>\n",
       "      <td>0.981429</td>\n",
       "      <td>55.907576</td>\n",
       "    </tr>\n",
       "    <tr>\n",
       "      <th>min</th>\n",
       "      <td>892.000000</td>\n",
       "      <td>1.000000</td>\n",
       "      <td>0.170000</td>\n",
       "      <td>0.000000</td>\n",
       "      <td>0.000000</td>\n",
       "      <td>0.000000</td>\n",
       "    </tr>\n",
       "    <tr>\n",
       "      <th>25%</th>\n",
       "      <td>996.250000</td>\n",
       "      <td>1.000000</td>\n",
       "      <td>21.000000</td>\n",
       "      <td>0.000000</td>\n",
       "      <td>0.000000</td>\n",
       "      <td>7.895800</td>\n",
       "    </tr>\n",
       "    <tr>\n",
       "      <th>50%</th>\n",
       "      <td>1100.500000</td>\n",
       "      <td>3.000000</td>\n",
       "      <td>27.000000</td>\n",
       "      <td>0.000000</td>\n",
       "      <td>0.000000</td>\n",
       "      <td>14.454200</td>\n",
       "    </tr>\n",
       "    <tr>\n",
       "      <th>75%</th>\n",
       "      <td>1204.750000</td>\n",
       "      <td>3.000000</td>\n",
       "      <td>39.000000</td>\n",
       "      <td>1.000000</td>\n",
       "      <td>0.000000</td>\n",
       "      <td>31.500000</td>\n",
       "    </tr>\n",
       "    <tr>\n",
       "      <th>max</th>\n",
       "      <td>1309.000000</td>\n",
       "      <td>3.000000</td>\n",
       "      <td>76.000000</td>\n",
       "      <td>8.000000</td>\n",
       "      <td>9.000000</td>\n",
       "      <td>512.329200</td>\n",
       "    </tr>\n",
       "  </tbody>\n",
       "</table>\n",
       "</div>"
      ],
      "text/plain": [
       "       PassengerId      Pclass         Age       SibSp       Parch        Fare\n",
       "count   418.000000  418.000000  332.000000  418.000000  418.000000  417.000000\n",
       "mean   1100.500000    2.265550   30.272590    0.447368    0.392344   35.627188\n",
       "std     120.810458    0.841838   14.181209    0.896760    0.981429   55.907576\n",
       "min     892.000000    1.000000    0.170000    0.000000    0.000000    0.000000\n",
       "25%     996.250000    1.000000   21.000000    0.000000    0.000000    7.895800\n",
       "50%    1100.500000    3.000000   27.000000    0.000000    0.000000   14.454200\n",
       "75%    1204.750000    3.000000   39.000000    1.000000    0.000000   31.500000\n",
       "max    1309.000000    3.000000   76.000000    8.000000    9.000000  512.329200"
      ]
     },
     "metadata": {},
     "output_type": "display_data"
    },
    {
     "name": "stdout",
     "output_type": "stream",
     "text": [
      "<class 'pandas.core.frame.DataFrame'>\n",
      "RangeIndex: 418 entries, 0 to 417\n",
      "Data columns (total 11 columns):\n",
      " #   Column       Non-Null Count  Dtype  \n",
      "---  ------       --------------  -----  \n",
      " 0   PassengerId  418 non-null    int64  \n",
      " 1   Pclass       418 non-null    int64  \n",
      " 2   Name         418 non-null    object \n",
      " 3   Sex          418 non-null    object \n",
      " 4   Age          332 non-null    float64\n",
      " 5   SibSp        418 non-null    int64  \n",
      " 6   Parch        418 non-null    int64  \n",
      " 7   Ticket       418 non-null    object \n",
      " 8   Fare         417 non-null    float64\n",
      " 9   Cabin        91 non-null     object \n",
      " 10  Embarked     418 non-null    object \n",
      "dtypes: float64(2), int64(4), object(5)\n",
      "memory usage: 36.0+ KB\n"
     ]
    }
   ],
   "source": [
    "display(test.describe())\n",
    "test.info()"
   ]
  },
  {
   "cell_type": "code",
   "execution_count": 6,
   "id": "cd0f49f6",
   "metadata": {
    "execution": {
     "iopub.execute_input": "2024-07-18T16:19:25.202449Z",
     "iopub.status.busy": "2024-07-18T16:19:25.202038Z",
     "iopub.status.idle": "2024-07-18T16:19:25.215256Z",
     "shell.execute_reply": "2024-07-18T16:19:25.214155Z"
    },
    "papermill": {
     "duration": 0.025029,
     "end_time": "2024-07-18T16:19:25.217679",
     "exception": false,
     "start_time": "2024-07-18T16:19:25.192650",
     "status": "completed"
    },
    "tags": []
   },
   "outputs": [
    {
     "name": "stderr",
     "output_type": "stream",
     "text": [
      "/tmp/ipykernel_18/908875632.py:2: FutureWarning: Downcasting behavior in `replace` is deprecated and will be removed in a future version. To retain the old behavior, explicitly call `result.infer_objects(copy=False)`. To opt-in to the future behavior, set `pd.set_option('future.no_silent_downcasting', True)`\n",
      "  train = train.replace({'male':0, 'female':1})\n",
      "/tmp/ipykernel_18/908875632.py:3: FutureWarning: Downcasting behavior in `replace` is deprecated and will be removed in a future version. To retain the old behavior, explicitly call `result.infer_objects(copy=False)`. To opt-in to the future behavior, set `pd.set_option('future.no_silent_downcasting', True)`\n",
      "  test = test.replace({'male':0, 'female':1})\n"
     ]
    }
   ],
   "source": [
    "# Sexを男性0、女性1に変換\n",
    "train = train.replace({'male':0, 'female':1})\n",
    "test = test.replace({'male':0, 'female':1})"
   ]
  },
  {
   "cell_type": "code",
   "execution_count": 7,
   "id": "a5cd0803",
   "metadata": {
    "execution": {
     "iopub.execute_input": "2024-07-18T16:19:25.235522Z",
     "iopub.status.busy": "2024-07-18T16:19:25.235120Z",
     "iopub.status.idle": "2024-07-18T16:19:25.251369Z",
     "shell.execute_reply": "2024-07-18T16:19:25.250134Z"
    },
    "papermill": {
     "duration": 0.028351,
     "end_time": "2024-07-18T16:19:25.254031",
     "exception": false,
     "start_time": "2024-07-18T16:19:25.225680",
     "status": "completed"
    },
    "tags": []
   },
   "outputs": [],
   "source": [
    "# 'Age'の欠損値を処理\n",
    "train.loc[train['Age'].isnull(), 'Age'] = train.groupby('Pclass')['Age'].transform('median')\n",
    "test.loc[test['Age'].isnull(), 'Age'] = test.groupby('Pclass')['Age'].transform('median')"
   ]
  },
  {
   "cell_type": "code",
   "execution_count": 8,
   "id": "d8685caf",
   "metadata": {
    "execution": {
     "iopub.execute_input": "2024-07-18T16:19:25.271547Z",
     "iopub.status.busy": "2024-07-18T16:19:25.271172Z",
     "iopub.status.idle": "2024-07-18T16:19:25.866505Z",
     "shell.execute_reply": "2024-07-18T16:19:25.865210Z"
    },
    "papermill": {
     "duration": 0.60749,
     "end_time": "2024-07-18T16:19:25.869472",
     "exception": false,
     "start_time": "2024-07-18T16:19:25.261982",
     "status": "completed"
    },
    "tags": []
   },
   "outputs": [],
   "source": [
    "from sklearn.ensemble import RandomForestClassifier\n",
    "train_features = train[['Pclass', 'Sex', 'Age']].values\n",
    "train_target = train['Survived'].values"
   ]
  },
  {
   "cell_type": "code",
   "execution_count": 9,
   "id": "3edccc2d",
   "metadata": {
    "execution": {
     "iopub.execute_input": "2024-07-18T16:19:25.887510Z",
     "iopub.status.busy": "2024-07-18T16:19:25.887097Z",
     "iopub.status.idle": "2024-07-18T16:19:25.896022Z",
     "shell.execute_reply": "2024-07-18T16:19:25.894836Z"
    },
    "papermill": {
     "duration": 0.021121,
     "end_time": "2024-07-18T16:19:25.898645",
     "exception": false,
     "start_time": "2024-07-18T16:19:25.877524",
     "status": "completed"
    },
    "tags": []
   },
   "outputs": [],
   "source": [
    "from sklearn.model_selection import train_test_split\n",
    "train_features_tr, train_features_va, train_target_tr, train_target_va = train_test_split(train_features, train_target, test_size=0.2, random_state=0)"
   ]
  },
  {
   "cell_type": "code",
   "execution_count": 10,
   "id": "1f747e3e",
   "metadata": {
    "execution": {
     "iopub.execute_input": "2024-07-18T16:19:25.919421Z",
     "iopub.status.busy": "2024-07-18T16:19:25.918576Z",
     "iopub.status.idle": "2024-07-18T16:19:25.926086Z",
     "shell.execute_reply": "2024-07-18T16:19:25.924970Z"
    },
    "papermill": {
     "duration": 0.021238,
     "end_time": "2024-07-18T16:19:25.928631",
     "exception": false,
     "start_time": "2024-07-18T16:19:25.907393",
     "status": "completed"
    },
    "tags": []
   },
   "outputs": [
    {
     "data": {
      "text/plain": [
       "(712, 3)"
      ]
     },
     "execution_count": 10,
     "metadata": {},
     "output_type": "execute_result"
    }
   ],
   "source": [
    "train_features_tr.shape"
   ]
  },
  {
   "cell_type": "code",
   "execution_count": 11,
   "id": "3aef07a8",
   "metadata": {
    "execution": {
     "iopub.execute_input": "2024-07-18T16:19:25.946589Z",
     "iopub.status.busy": "2024-07-18T16:19:25.946212Z",
     "iopub.status.idle": "2024-07-18T16:19:25.953060Z",
     "shell.execute_reply": "2024-07-18T16:19:25.951978Z"
    },
    "papermill": {
     "duration": 0.018595,
     "end_time": "2024-07-18T16:19:25.955394",
     "exception": false,
     "start_time": "2024-07-18T16:19:25.936799",
     "status": "completed"
    },
    "tags": []
   },
   "outputs": [
    {
     "data": {
      "text/plain": [
       "(179, 3)"
      ]
     },
     "execution_count": 11,
     "metadata": {},
     "output_type": "execute_result"
    }
   ],
   "source": [
    "train_features_va.shape"
   ]
  },
  {
   "cell_type": "code",
   "execution_count": 12,
   "id": "a2cb3b05",
   "metadata": {
    "execution": {
     "iopub.execute_input": "2024-07-18T16:19:25.973946Z",
     "iopub.status.busy": "2024-07-18T16:19:25.972999Z",
     "iopub.status.idle": "2024-07-18T16:19:25.979747Z",
     "shell.execute_reply": "2024-07-18T16:19:25.978744Z"
    },
    "papermill": {
     "duration": 0.018716,
     "end_time": "2024-07-18T16:19:25.982284",
     "exception": false,
     "start_time": "2024-07-18T16:19:25.963568",
     "status": "completed"
    },
    "tags": []
   },
   "outputs": [
    {
     "data": {
      "text/plain": [
       "(712,)"
      ]
     },
     "execution_count": 12,
     "metadata": {},
     "output_type": "execute_result"
    }
   ],
   "source": [
    "train_target_tr.shape"
   ]
  },
  {
   "cell_type": "code",
   "execution_count": 13,
   "id": "37e25d80",
   "metadata": {
    "execution": {
     "iopub.execute_input": "2024-07-18T16:19:26.002093Z",
     "iopub.status.busy": "2024-07-18T16:19:26.001007Z",
     "iopub.status.idle": "2024-07-18T16:19:26.008329Z",
     "shell.execute_reply": "2024-07-18T16:19:26.007243Z"
    },
    "papermill": {
     "duration": 0.019752,
     "end_time": "2024-07-18T16:19:26.010747",
     "exception": false,
     "start_time": "2024-07-18T16:19:25.990995",
     "status": "completed"
    },
    "tags": []
   },
   "outputs": [
    {
     "data": {
      "text/plain": [
       "(179,)"
      ]
     },
     "execution_count": 13,
     "metadata": {},
     "output_type": "execute_result"
    }
   ],
   "source": [
    "train_target_va.shape"
   ]
  },
  {
   "cell_type": "code",
   "execution_count": 14,
   "id": "de17367d",
   "metadata": {
    "execution": {
     "iopub.execute_input": "2024-07-18T16:19:26.030091Z",
     "iopub.status.busy": "2024-07-18T16:19:26.029014Z",
     "iopub.status.idle": "2024-07-18T16:20:27.437880Z",
     "shell.execute_reply": "2024-07-18T16:20:27.436537Z"
    },
    "papermill": {
     "duration": 61.430619,
     "end_time": "2024-07-18T16:20:27.449851",
     "exception": false,
     "start_time": "2024-07-18T16:19:26.019232",
     "status": "completed"
    },
    "tags": []
   },
   "outputs": [
    {
     "data": {
      "text/plain": [
       "{'max_depth': 6, 'n_estimators': 120}"
      ]
     },
     "metadata": {},
     "output_type": "display_data"
    },
    {
     "data": {
      "text/plain": [
       "0.8145966709346991"
      ]
     },
     "metadata": {},
     "output_type": "display_data"
    },
    {
     "data": {
      "text/plain": [
       "0.8212290502793296"
      ]
     },
     "metadata": {},
     "output_type": "display_data"
    }
   ],
   "source": [
    "# グリッドサーチを実行\n",
    "from sklearn.model_selection import GridSearchCV\n",
    "rf_model = RandomForestClassifier(random_state=0)\n",
    "\n",
    "max_depth = [4, 5, 6, 7, 8, 9, 10]\n",
    "n_estimators = [120, 130, 140, 150, 160]\n",
    "\n",
    "params = {'max_depth':max_depth, 'n_estimators':n_estimators}\n",
    "\n",
    "grid_cv = GridSearchCV(estimator=rf_model, param_grid=params, cv=5)\n",
    "grid_cv.fit(train_features_tr, train_target_tr)\n",
    "\n",
    "# スコア表示\n",
    "display(grid_cv.best_params_, grid_cv.best_score_, grid_cv.score(train_features_va, train_target_va))"
   ]
  },
  {
   "cell_type": "code",
   "execution_count": 15,
   "id": "5d3a1d03",
   "metadata": {
    "execution": {
     "iopub.execute_input": "2024-07-18T16:20:27.469686Z",
     "iopub.status.busy": "2024-07-18T16:20:27.469304Z",
     "iopub.status.idle": "2024-07-18T16:20:27.780329Z",
     "shell.execute_reply": "2024-07-18T16:20:27.779083Z"
    },
    "papermill": {
     "duration": 0.324055,
     "end_time": "2024-07-18T16:20:27.782915",
     "exception": false,
     "start_time": "2024-07-18T16:20:27.458860",
     "status": "completed"
    },
    "tags": []
   },
   "outputs": [
    {
     "data": {
      "text/html": [
       "<style>#sk-container-id-1 {color: black;background-color: white;}#sk-container-id-1 pre{padding: 0;}#sk-container-id-1 div.sk-toggleable {background-color: white;}#sk-container-id-1 label.sk-toggleable__label {cursor: pointer;display: block;width: 100%;margin-bottom: 0;padding: 0.3em;box-sizing: border-box;text-align: center;}#sk-container-id-1 label.sk-toggleable__label-arrow:before {content: \"▸\";float: left;margin-right: 0.25em;color: #696969;}#sk-container-id-1 label.sk-toggleable__label-arrow:hover:before {color: black;}#sk-container-id-1 div.sk-estimator:hover label.sk-toggleable__label-arrow:before {color: black;}#sk-container-id-1 div.sk-toggleable__content {max-height: 0;max-width: 0;overflow: hidden;text-align: left;background-color: #f0f8ff;}#sk-container-id-1 div.sk-toggleable__content pre {margin: 0.2em;color: black;border-radius: 0.25em;background-color: #f0f8ff;}#sk-container-id-1 input.sk-toggleable__control:checked~div.sk-toggleable__content {max-height: 200px;max-width: 100%;overflow: auto;}#sk-container-id-1 input.sk-toggleable__control:checked~label.sk-toggleable__label-arrow:before {content: \"▾\";}#sk-container-id-1 div.sk-estimator input.sk-toggleable__control:checked~label.sk-toggleable__label {background-color: #d4ebff;}#sk-container-id-1 div.sk-label input.sk-toggleable__control:checked~label.sk-toggleable__label {background-color: #d4ebff;}#sk-container-id-1 input.sk-hidden--visually {border: 0;clip: rect(1px 1px 1px 1px);clip: rect(1px, 1px, 1px, 1px);height: 1px;margin: -1px;overflow: hidden;padding: 0;position: absolute;width: 1px;}#sk-container-id-1 div.sk-estimator {font-family: monospace;background-color: #f0f8ff;border: 1px dotted black;border-radius: 0.25em;box-sizing: border-box;margin-bottom: 0.5em;}#sk-container-id-1 div.sk-estimator:hover {background-color: #d4ebff;}#sk-container-id-1 div.sk-parallel-item::after {content: \"\";width: 100%;border-bottom: 1px solid gray;flex-grow: 1;}#sk-container-id-1 div.sk-label:hover label.sk-toggleable__label {background-color: #d4ebff;}#sk-container-id-1 div.sk-serial::before {content: \"\";position: absolute;border-left: 1px solid gray;box-sizing: border-box;top: 0;bottom: 0;left: 50%;z-index: 0;}#sk-container-id-1 div.sk-serial {display: flex;flex-direction: column;align-items: center;background-color: white;padding-right: 0.2em;padding-left: 0.2em;position: relative;}#sk-container-id-1 div.sk-item {position: relative;z-index: 1;}#sk-container-id-1 div.sk-parallel {display: flex;align-items: stretch;justify-content: center;background-color: white;position: relative;}#sk-container-id-1 div.sk-item::before, #sk-container-id-1 div.sk-parallel-item::before {content: \"\";position: absolute;border-left: 1px solid gray;box-sizing: border-box;top: 0;bottom: 0;left: 50%;z-index: -1;}#sk-container-id-1 div.sk-parallel-item {display: flex;flex-direction: column;z-index: 1;position: relative;background-color: white;}#sk-container-id-1 div.sk-parallel-item:first-child::after {align-self: flex-end;width: 50%;}#sk-container-id-1 div.sk-parallel-item:last-child::after {align-self: flex-start;width: 50%;}#sk-container-id-1 div.sk-parallel-item:only-child::after {width: 0;}#sk-container-id-1 div.sk-dashed-wrapped {border: 1px dashed gray;margin: 0 0.4em 0.5em 0.4em;box-sizing: border-box;padding-bottom: 0.4em;background-color: white;}#sk-container-id-1 div.sk-label label {font-family: monospace;font-weight: bold;display: inline-block;line-height: 1.2em;}#sk-container-id-1 div.sk-label-container {text-align: center;}#sk-container-id-1 div.sk-container {/* jupyter's `normalize.less` sets `[hidden] { display: none; }` but bootstrap.min.css set `[hidden] { display: none !important; }` so we also need the `!important` here to be able to override the default hidden behavior on the sphinx rendered scikit-learn.org. See: https://github.com/scikit-learn/scikit-learn/issues/21755 */display: inline-block !important;position: relative;}#sk-container-id-1 div.sk-text-repr-fallback {display: none;}</style><div id=\"sk-container-id-1\" class=\"sk-top-container\"><div class=\"sk-text-repr-fallback\"><pre>RandomForestClassifier(max_depth=6, n_estimators=120, random_state=0)</pre><b>In a Jupyter environment, please rerun this cell to show the HTML representation or trust the notebook. <br />On GitHub, the HTML representation is unable to render, please try loading this page with nbviewer.org.</b></div><div class=\"sk-container\" hidden><div class=\"sk-item\"><div class=\"sk-estimator sk-toggleable\"><input class=\"sk-toggleable__control sk-hidden--visually\" id=\"sk-estimator-id-1\" type=\"checkbox\" checked><label for=\"sk-estimator-id-1\" class=\"sk-toggleable__label sk-toggleable__label-arrow\">RandomForestClassifier</label><div class=\"sk-toggleable__content\"><pre>RandomForestClassifier(max_depth=6, n_estimators=120, random_state=0)</pre></div></div></div></div></div>"
      ],
      "text/plain": [
       "RandomForestClassifier(max_depth=6, n_estimators=120, random_state=0)"
      ]
     },
     "execution_count": 15,
     "metadata": {},
     "output_type": "execute_result"
    }
   ],
   "source": [
    "model = RandomForestClassifier(n_estimators=120, max_depth=6, random_state=0)\n",
    "model.fit(train_features, train_target)"
   ]
  },
  {
   "cell_type": "code",
   "execution_count": 16,
   "id": "7c93ac29",
   "metadata": {
    "execution": {
     "iopub.execute_input": "2024-07-18T16:20:27.804292Z",
     "iopub.status.busy": "2024-07-18T16:20:27.803333Z",
     "iopub.status.idle": "2024-07-18T16:20:27.825154Z",
     "shell.execute_reply": "2024-07-18T16:20:27.824112Z"
    },
    "papermill": {
     "duration": 0.036065,
     "end_time": "2024-07-18T16:20:27.828177",
     "exception": false,
     "start_time": "2024-07-18T16:20:27.792112",
     "status": "completed"
    },
    "tags": []
   },
   "outputs": [],
   "source": [
    "test_features = test[['Pclass', 'Sex', 'Age']].values\n",
    "predict_test_target = model.predict(test_features)"
   ]
  },
  {
   "cell_type": "code",
   "execution_count": 17,
   "id": "c5ab9f86",
   "metadata": {
    "execution": {
     "iopub.execute_input": "2024-07-18T16:20:27.849276Z",
     "iopub.status.busy": "2024-07-18T16:20:27.848318Z",
     "iopub.status.idle": "2024-07-18T16:20:27.855435Z",
     "shell.execute_reply": "2024-07-18T16:20:27.854352Z"
    },
    "papermill": {
     "duration": 0.020074,
     "end_time": "2024-07-18T16:20:27.857754",
     "exception": false,
     "start_time": "2024-07-18T16:20:27.837680",
     "status": "completed"
    },
    "tags": []
   },
   "outputs": [
    {
     "data": {
      "text/plain": [
       "(418,)"
      ]
     },
     "execution_count": 17,
     "metadata": {},
     "output_type": "execute_result"
    }
   ],
   "source": [
    "predict_test_target.shape"
   ]
  },
  {
   "cell_type": "code",
   "execution_count": 18,
   "id": "7f8458b0",
   "metadata": {
    "execution": {
     "iopub.execute_input": "2024-07-18T16:20:27.878504Z",
     "iopub.status.busy": "2024-07-18T16:20:27.878132Z",
     "iopub.status.idle": "2024-07-18T16:20:27.885211Z",
     "shell.execute_reply": "2024-07-18T16:20:27.884079Z"
    },
    "papermill": {
     "duration": 0.021465,
     "end_time": "2024-07-18T16:20:27.888567",
     "exception": false,
     "start_time": "2024-07-18T16:20:27.867102",
     "status": "completed"
    },
    "tags": []
   },
   "outputs": [
    {
     "name": "stdout",
     "output_type": "stream",
     "text": [
      "[0 0 0 0 1 0 0 0 1 0 0 0 1 0 1 1 0 0 1 0 0 0 1 0 1 0 1 0 0 0 0 0 1 1 0 0 1\n",
      " 0 0 0 0 0 0 1 1 0 0 0 1 1 0 0 1 1 0 0 0 0 0 1 0 0 0 1 1 1 1 0 0 1 1 0 0 0\n",
      " 1 1 0 1 0 1 0 0 0 0 0 0 1 1 1 1 1 0 1 0 1 0 1 0 0 0 1 0 0 0 1 0 0 0 0 0 0\n",
      " 1 1 1 1 0 0 1 1 1 1 0 1 0 0 1 0 1 0 0 0 0 1 0 0 0 0 0 1 0 0 1 0 0 0 0 0 0\n",
      " 0 0 1 0 0 1 0 0 1 1 0 1 1 0 1 0 0 1 1 0 1 1 0 0 0 0 0 1 1 0 1 1 0 0 1 0 1\n",
      " 0 1 0 1 0 0 0 0 0 1 0 1 1 0 1 1 1 0 1 0 0 1 0 1 0 0 0 0 0 0 0 1 0 1 0 1 0\n",
      " 1 0 1 1 0 1 0 0 0 1 0 0 0 0 0 0 1 1 1 1 0 0 0 0 1 0 1 1 1 0 1 0 0 0 0 0 1\n",
      " 0 0 0 1 1 0 0 0 0 1 0 0 0 1 1 0 1 0 0 0 0 1 1 1 0 0 0 0 0 0 0 0 0 0 0 0 0\n",
      " 1 0 0 0 0 0 0 0 1 1 0 1 0 0 0 0 0 0 1 1 0 0 0 0 0 0 0 1 1 0 1 0 0 0 1 0 0\n",
      " 1 0 0 0 0 0 0 0 0 0 1 0 1 0 0 0 1 1 0 0 0 1 0 1 0 0 0 0 1 1 0 1 1 0 1 1 0\n",
      " 0 1 0 0 1 1 1 0 0 0 0 0 1 1 0 1 0 0 0 0 0 1 0 0 0 1 0 1 0 0 1 0 1 1 0 0 0\n",
      " 0 1 0 1 1 0 0 1 0 0 0]\n"
     ]
    }
   ],
   "source": [
    "print(predict_test_target)"
   ]
  },
  {
   "cell_type": "code",
   "execution_count": 19,
   "id": "f0b52e56",
   "metadata": {
    "execution": {
     "iopub.execute_input": "2024-07-18T16:20:27.910220Z",
     "iopub.status.busy": "2024-07-18T16:20:27.909041Z",
     "iopub.status.idle": "2024-07-18T16:20:27.919508Z",
     "shell.execute_reply": "2024-07-18T16:20:27.918433Z"
    },
    "papermill": {
     "duration": 0.024139,
     "end_time": "2024-07-18T16:20:27.922215",
     "exception": false,
     "start_time": "2024-07-18T16:20:27.898076",
     "status": "completed"
    },
    "tags": []
   },
   "outputs": [],
   "source": [
    "submission = pd.DataFrame({'PassengerId': test['PassengerId'], 'Survived': predict_test_target})\n",
    "submission.to_csv('subimission_RandomForestClassifier_3.csv', index = False)"
   ]
  }
 ],
 "metadata": {
  "kaggle": {
   "accelerator": "none",
   "dataSources": [
    {
     "databundleVersionId": 26502,
     "sourceId": 3136,
     "sourceType": "competition"
    }
   ],
   "dockerImageVersionId": 30746,
   "isGpuEnabled": false,
   "isInternetEnabled": false,
   "language": "python",
   "sourceType": "notebook"
  },
  "kernelspec": {
   "display_name": "Python 3",
   "language": "python",
   "name": "python3"
  },
  "language_info": {
   "codemirror_mode": {
    "name": "ipython",
    "version": 3
   },
   "file_extension": ".py",
   "mimetype": "text/x-python",
   "name": "python",
   "nbconvert_exporter": "python",
   "pygments_lexer": "ipython3",
   "version": "3.10.13"
  },
  "papermill": {
   "default_parameters": {},
   "duration": 68.740776,
   "end_time": "2024-07-18T16:20:28.553561",
   "environment_variables": {},
   "exception": null,
   "input_path": "__notebook__.ipynb",
   "output_path": "__notebook__.ipynb",
   "parameters": {},
   "start_time": "2024-07-18T16:19:19.812785",
   "version": "2.5.0"
  }
 },
 "nbformat": 4,
 "nbformat_minor": 5
}
